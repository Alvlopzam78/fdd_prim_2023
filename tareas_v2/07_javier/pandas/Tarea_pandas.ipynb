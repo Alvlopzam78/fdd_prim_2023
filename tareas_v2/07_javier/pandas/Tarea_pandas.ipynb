{
 "cells": [
  {
   "attachments": {},
   "cell_type": "markdown",
   "metadata": {},
   "source": [
    "Javier Nieto Merodio "
   ]
  },
  {
   "attachments": {},
   "cell_type": "markdown",
   "metadata": {},
   "source": [
    "ITAM Fuentes de Datos Primavera 2023"
   ]
  },
  {
   "attachments": {},
   "cell_type": "markdown",
   "metadata": {},
   "source": [
    "# **Tarea de Pandas #1**"
   ]
  },
  {
   "attachments": {},
   "cell_type": "markdown",
   "metadata": {},
   "source": [
    "## **Parte 1: función apply**"
   ]
  },
  {
   "attachments": {},
   "cell_type": "markdown",
   "metadata": {},
   "source": [
    "La función apply es una de las más importantes para el manejo de la librería de pandas. En lo personal, uso esta función casi diario trabajando. Lo que nos permite es hacer operaciones con los datos de un pandas dataframe de manera eficiente. Si la\n",
    "\n",
    "Una de las ventajas de apply es que podemos elegir a qué nivel del dataframe queremos hacer nuestras operaciones: columnas o renglones. Incluso, si queremos, podemos aplicar una operación apply a todos los datos del dataframe. \n",
    "\n",
    "El argumento <code>axis</code> funciona de la siguiente forma:\n",
    " - Para hacer operaciones a entre renglones: <code>axis = 0</code>.\n",
    " - Para hacer operaciones a entre columnas: <code>axis = 1</code>.\n",
    "\n",
    "También, podemos elegir si hacer las operaciones entre datos de un grupo seleccionado, con <code>lambda x: funcion(x)</code>, o entre rows, usando <code>lambda row: row[a]/row[b]</code>\n",
    "\n",
    "Un ejemplo sería el siguiente. Supongamos que tenemos un dataframe <code>df</code> con dos columnas <code>base</code> y <code>altura</code>, siendo bases y alturas de cuadrados. Si quisieramos crear una nueva columna <code>area</code> usando apply, haríamos lo siguiente:\n",
    "\n",
    " - <code>df['area'] = df.apply(lambda row: row['base']*row['altura'], axis = 1)</code>"
   ]
  },
  {
   "attachments": {},
   "cell_type": "markdown",
   "metadata": {},
   "source": [
    "## **Parte 2: función concat**"
   ]
  },
  {
   "attachments": {},
   "cell_type": "markdown",
   "metadata": {},
   "source": [
    "La función <code>concat</code> nos ayuda a *juntar* dos dataframes distintos de la forma que queramos: agregándolo como nuevos valores/nuevos renglones, o como nuevas columnas. Es importante ver la forma que tienen ambos dataframes para entender el resultado. Por ejemplo, al intentar juntar dos dataframes de nxm y axb, y juntarlos, pueden resultar en conflictos, o creación de nuevas columnas y/o renglones no esperados.\n",
    "\n",
    "En este caso, <code>axis = 1</code> nos permite concatenar como nuevas columnas dataframes distintos. Veamos el siguiente ejemplo.\n",
    "\n",
    " - Sea <code>df1</code>:\n",
    "\n",
    "|   | nombre | apellido |\n",
    "|---|--------|----------|\n",
    "| 0 | Javi   | Nieto    |\n",
    "| 1 | Raton  | Perez    |\n",
    "\n",
    " - Sea <code>df2</code>:\n",
    "\n",
    "|   | edad  | profesion  |\n",
    "|---|-------|------------|\n",
    "| 0 | 22    | estudiante |\n",
    "| 1 | 120 | dentista   |\n",
    "\n",
    " - <code>df_nuevo = pd.concat([df1, df2], axis = 1)</code> nos regresa:\n",
    "\n",
    "|   | nombre | apellido | edad  | profesion  |\n",
    "|---|--------|----------|-------|------------|\n",
    "| 0 | Javier | Nieto    | 22    | estudiante |\n",
    "| 1 | Raton  | Perez    | 120 | dentista   |\n",
    "\n",
    "\n",
    "Ahora, veamos el siguiente caso donde tenemos dos dataframes <code>df3</code> y <code>df4</code> que queremos unir como nuevas columnas, pero no coinciden en el índice. Para eso, usamos <code>ignore_index = True</code>. Veamos:\n",
    "\n",
    " - Sea <code>df3</code>:\n",
    "\n",
    "|   | nombre | apellido |\n",
    "|---|--------|----------|\n",
    "| 0 | Don    | Cangrejo |\n",
    "| 1 | Bob    | Espona   |\n",
    "\n",
    " - Sea <code>df4</code>:\n",
    "\n",
    "|   | edad | profesion |\n",
    "|---|------|-----------|\n",
    "| 2 | 44   | Manager   |\n",
    "| 5 | 28   | Chef      |\n",
    "\n",
    " - Usando <code>df_nuevo_2 = pd.concat([df3, df4], axis = 1, ignore_index = True)</code> nos regresa:\n",
    "\n",
    " |   | nombre | apellido | edad | profesion |\n",
    "|---|--------|----------|------|-----------|\n",
    "| 0 | Don    | Cangrejo | 44   | Manager   |\n",
    "| 1 | Bob    | Espona   | 28   | Chef      |\n",
    "\n",
    "\n"
   ]
  }
 ],
 "metadata": {
  "kernelspec": {
   "display_name": "Python 3",
   "language": "python",
   "name": "python3"
  },
  "language_info": {
   "name": "python",
   "version": "3.11.1"
  },
  "orig_nbformat": 4,
  "vscode": {
   "interpreter": {
    "hash": "5c7b89af1651d0b8571dde13640ecdccf7d5a6204171d6ab33e7c296e100e08a"
   }
  }
 },
 "nbformat": 4,
 "nbformat_minor": 2
}
